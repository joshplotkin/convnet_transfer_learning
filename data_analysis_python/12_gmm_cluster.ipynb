{
 "cells": [
  {
   "cell_type": "code",
   "execution_count": 5,
   "metadata": {
    "collapsed": true
   },
   "outputs": [],
   "source": [
    "import os\n",
    "from pandas import *\n",
    "from sklearn.mixture import VBGMM"
   ]
  },
  {
   "cell_type": "code",
   "execution_count": 8,
   "metadata": {
    "collapsed": false
   },
   "outputs": [],
   "source": [
    "df = read_csv('../boots_dataset/features_women.csv', index_col = 'asin')"
   ]
  },
  {
   "cell_type": "code",
   "execution_count": 9,
   "metadata": {
    "collapsed": false
   },
   "outputs": [
    {
     "data": {
      "text/html": [
       "<div>\n",
       "<table border=\"1\" class=\"dataframe\">\n",
       "  <thead>\n",
       "    <tr style=\"text-align: right;\">\n",
       "      <th></th>\n",
       "      <th>0</th>\n",
       "      <th>1</th>\n",
       "      <th>2</th>\n",
       "      <th>3</th>\n",
       "      <th>4</th>\n",
       "      <th>5</th>\n",
       "      <th>6</th>\n",
       "      <th>7</th>\n",
       "      <th>8</th>\n",
       "      <th>9</th>\n",
       "      <th>...</th>\n",
       "      <th>4086</th>\n",
       "      <th>4087</th>\n",
       "      <th>4088</th>\n",
       "      <th>4089</th>\n",
       "      <th>4090</th>\n",
       "      <th>4091</th>\n",
       "      <th>4092</th>\n",
       "      <th>4093</th>\n",
       "      <th>4094</th>\n",
       "      <th>4095</th>\n",
       "    </tr>\n",
       "    <tr>\n",
       "      <th>asin</th>\n",
       "      <th></th>\n",
       "      <th></th>\n",
       "      <th></th>\n",
       "      <th></th>\n",
       "      <th></th>\n",
       "      <th></th>\n",
       "      <th></th>\n",
       "      <th></th>\n",
       "      <th></th>\n",
       "      <th></th>\n",
       "      <th></th>\n",
       "      <th></th>\n",
       "      <th></th>\n",
       "      <th></th>\n",
       "      <th></th>\n",
       "      <th></th>\n",
       "      <th></th>\n",
       "      <th></th>\n",
       "      <th></th>\n",
       "      <th></th>\n",
       "      <th></th>\n",
       "    </tr>\n",
       "  </thead>\n",
       "  <tbody>\n",
       "    <tr>\n",
       "      <th>B005IYS5ZA</th>\n",
       "      <td>0.0</td>\n",
       "      <td>0.8051</td>\n",
       "      <td>0.0000</td>\n",
       "      <td>0.0</td>\n",
       "      <td>0.000</td>\n",
       "      <td>0.1</td>\n",
       "      <td>0.0000</td>\n",
       "      <td>0.3484</td>\n",
       "      <td>0.0000</td>\n",
       "      <td>1.3334</td>\n",
       "      <td>...</td>\n",
       "      <td>0.0000</td>\n",
       "      <td>0.0</td>\n",
       "      <td>0.0</td>\n",
       "      <td>0.0</td>\n",
       "      <td>0.0000</td>\n",
       "      <td>3.2731</td>\n",
       "      <td>0.0</td>\n",
       "      <td>0.0507</td>\n",
       "      <td>0.0</td>\n",
       "      <td>0.0000</td>\n",
       "    </tr>\n",
       "    <tr>\n",
       "      <th>B007KHXTXQ</th>\n",
       "      <td>0.0</td>\n",
       "      <td>0.0000</td>\n",
       "      <td>2.9935</td>\n",
       "      <td>0.0</td>\n",
       "      <td>1.199</td>\n",
       "      <td>0.0</td>\n",
       "      <td>0.0000</td>\n",
       "      <td>0.0000</td>\n",
       "      <td>2.8597</td>\n",
       "      <td>0.0000</td>\n",
       "      <td>...</td>\n",
       "      <td>0.0000</td>\n",
       "      <td>0.0</td>\n",
       "      <td>0.0</td>\n",
       "      <td>0.0</td>\n",
       "      <td>2.6146</td>\n",
       "      <td>0.0000</td>\n",
       "      <td>0.0</td>\n",
       "      <td>0.0201</td>\n",
       "      <td>0.0</td>\n",
       "      <td>0.0000</td>\n",
       "    </tr>\n",
       "    <tr>\n",
       "      <th>B00IA6VTO2</th>\n",
       "      <td>0.0</td>\n",
       "      <td>3.2722</td>\n",
       "      <td>0.0000</td>\n",
       "      <td>0.0</td>\n",
       "      <td>0.000</td>\n",
       "      <td>0.0</td>\n",
       "      <td>0.3835</td>\n",
       "      <td>0.0000</td>\n",
       "      <td>0.0000</td>\n",
       "      <td>0.0000</td>\n",
       "      <td>...</td>\n",
       "      <td>3.5435</td>\n",
       "      <td>0.0</td>\n",
       "      <td>0.0</td>\n",
       "      <td>0.0</td>\n",
       "      <td>0.0000</td>\n",
       "      <td>0.7942</td>\n",
       "      <td>0.0</td>\n",
       "      <td>0.0000</td>\n",
       "      <td>0.0</td>\n",
       "      <td>0.0000</td>\n",
       "    </tr>\n",
       "    <tr>\n",
       "      <th>B0091UELGO</th>\n",
       "      <td>0.0</td>\n",
       "      <td>0.0000</td>\n",
       "      <td>0.0000</td>\n",
       "      <td>0.0</td>\n",
       "      <td>0.000</td>\n",
       "      <td>0.0</td>\n",
       "      <td>0.0000</td>\n",
       "      <td>0.0000</td>\n",
       "      <td>0.0000</td>\n",
       "      <td>0.0000</td>\n",
       "      <td>...</td>\n",
       "      <td>0.0000</td>\n",
       "      <td>0.0</td>\n",
       "      <td>0.0</td>\n",
       "      <td>0.0</td>\n",
       "      <td>0.0000</td>\n",
       "      <td>0.0753</td>\n",
       "      <td>0.0</td>\n",
       "      <td>0.0000</td>\n",
       "      <td>0.0</td>\n",
       "      <td>2.6916</td>\n",
       "    </tr>\n",
       "    <tr>\n",
       "      <th>B006CB31NO</th>\n",
       "      <td>0.0</td>\n",
       "      <td>0.0000</td>\n",
       "      <td>0.0000</td>\n",
       "      <td>0.0</td>\n",
       "      <td>0.000</td>\n",
       "      <td>0.0</td>\n",
       "      <td>0.0000</td>\n",
       "      <td>0.0000</td>\n",
       "      <td>0.0000</td>\n",
       "      <td>0.0000</td>\n",
       "      <td>...</td>\n",
       "      <td>0.0000</td>\n",
       "      <td>0.0</td>\n",
       "      <td>0.0</td>\n",
       "      <td>0.0</td>\n",
       "      <td>0.0000</td>\n",
       "      <td>1.2655</td>\n",
       "      <td>0.0</td>\n",
       "      <td>0.0000</td>\n",
       "      <td>0.0</td>\n",
       "      <td>3.5446</td>\n",
       "    </tr>\n",
       "  </tbody>\n",
       "</table>\n",
       "<p>5 rows × 4096 columns</p>\n",
       "</div>"
      ],
      "text/plain": [
       "              0       1       2    3      4    5       6       7       8  \\\n",
       "asin                                                                       \n",
       "B005IYS5ZA  0.0  0.8051  0.0000  0.0  0.000  0.1  0.0000  0.3484  0.0000   \n",
       "B007KHXTXQ  0.0  0.0000  2.9935  0.0  1.199  0.0  0.0000  0.0000  2.8597   \n",
       "B00IA6VTO2  0.0  3.2722  0.0000  0.0  0.000  0.0  0.3835  0.0000  0.0000   \n",
       "B0091UELGO  0.0  0.0000  0.0000  0.0  0.000  0.0  0.0000  0.0000  0.0000   \n",
       "B006CB31NO  0.0  0.0000  0.0000  0.0  0.000  0.0  0.0000  0.0000  0.0000   \n",
       "\n",
       "                 9   ...      4086  4087  4088  4089    4090    4091  4092  \\\n",
       "asin                 ...                                                     \n",
       "B005IYS5ZA  1.3334   ...    0.0000   0.0   0.0   0.0  0.0000  3.2731   0.0   \n",
       "B007KHXTXQ  0.0000   ...    0.0000   0.0   0.0   0.0  2.6146  0.0000   0.0   \n",
       "B00IA6VTO2  0.0000   ...    3.5435   0.0   0.0   0.0  0.0000  0.7942   0.0   \n",
       "B0091UELGO  0.0000   ...    0.0000   0.0   0.0   0.0  0.0000  0.0753   0.0   \n",
       "B006CB31NO  0.0000   ...    0.0000   0.0   0.0   0.0  0.0000  1.2655   0.0   \n",
       "\n",
       "              4093  4094    4095  \n",
       "asin                              \n",
       "B005IYS5ZA  0.0507   0.0  0.0000  \n",
       "B007KHXTXQ  0.0201   0.0  0.0000  \n",
       "B00IA6VTO2  0.0000   0.0  0.0000  \n",
       "B0091UELGO  0.0000   0.0  2.6916  \n",
       "B006CB31NO  0.0000   0.0  3.5446  \n",
       "\n",
       "[5 rows x 4096 columns]"
      ]
     },
     "execution_count": 9,
     "metadata": {},
     "output_type": "execute_result"
    }
   ],
   "source": [
    "df.head()"
   ]
  },
  {
   "cell_type": "code",
   "execution_count": 24,
   "metadata": {
    "collapsed": false
   },
   "outputs": [],
   "source": [
    "model = VBGMM(n_components=25, covariance_type='diag', alpha=1.0, random_state=None, \n",
    "      thresh=None, tol=0.001, verbose=0, min_covar=None, n_iter=10, \n",
    "      params='wmc', init_params='wmc')"
   ]
  },
  {
   "cell_type": "code",
   "execution_count": 25,
   "metadata": {
    "collapsed": true
   },
   "outputs": [],
   "source": [
    "nonzero = np.nonzero([0, 1, 1, 0])[0]"
   ]
  },
  {
   "cell_type": "code",
   "execution_count": 36,
   "metadata": {
    "collapsed": false
   },
   "outputs": [],
   "source": [
    "subset_cluster = df.iloc[:, nonzero]"
   ]
  },
  {
   "cell_type": "code",
   "execution_count": 37,
   "metadata": {
    "collapsed": false
   },
   "outputs": [
    {
     "data": {
      "text/plain": [
       "VBGMM(alpha=0.04, covariance_type='diag', init_params='wmc', min_covar=None,\n",
       "   n_components=25, n_iter=10, params='wmc', random_state=None,\n",
       "   thresh=None, tol=0.001, verbose=0)"
      ]
     },
     "execution_count": 37,
     "metadata": {},
     "output_type": "execute_result"
    }
   ],
   "source": [
    "model.fit(subset_cluster)"
   ]
  },
  {
   "cell_type": "code",
   "execution_count": 38,
   "metadata": {
    "collapsed": false
   },
   "outputs": [
    {
     "data": {
      "text/plain": [
       "24    2826\n",
       "16     247\n",
       "4      187\n",
       "22     185\n",
       "7      143\n",
       "23      64\n",
       "18      17\n",
       "3       13\n",
       "0       12\n",
       "10       2\n",
       "Name: 0, dtype: int64"
      ]
     },
     "execution_count": 38,
     "metadata": {},
     "output_type": "execute_result"
    }
   ],
   "source": [
    "DataFrame(model.predict(subset_cluster)).loc[:, 0].value_counts()"
   ]
  },
  {
   "cell_type": "code",
   "execution_count": 47,
   "metadata": {
    "collapsed": false
   },
   "outputs": [],
   "source": [
    "k = 25\n",
    "\n",
    "cluster_dict = {}\n",
    "pred = model.predict(subset_cluster)\n",
    "df.loc[:, 'cluster'] = pred\n",
    "\n",
    "for i, cluster in enumerate(np.unique(pred)):\n",
    "    cluster_dict[i] = list(df[df.cluster == cluster].drop('cluster', axis = 1).index)"
   ]
  },
  {
   "cell_type": "code",
   "execution_count": 70,
   "metadata": {
    "collapsed": true
   },
   "outputs": [],
   "source": [
    "from pandas import *\n",
    "from sklearn.mixture import VBGMM\n",
    "from sklearn.mixture import DPGMM\n",
    "from sklearn.cluster import KMeans\n",
    "import sys\n",
    "\n",
    "class ClusteringImages:\n",
    "    def __init__(self, df, coef, model_name, alpha, k):\n",
    "        self.generate_model(model_name, alpha, k)\n",
    "        self.features_df = df.iloc[:, np.nonzero(coef)[0]]\n",
    "        self.fit_model()\n",
    "        self.cluster()\n",
    "        \n",
    "    def generate_model(self, model_name, alpha, k):\n",
    "        if model_name == 'VBGMM':\n",
    "            self.model = VBGMM(n_components=k, covariance_type='diag', alpha=alpha, random_state=None, \n",
    "              thresh=None, tol=0.001, verbose=0, min_covar=None, n_iter=10, \n",
    "              params='wmc', init_params='wmc')\n",
    "        elif model_name == 'DPGMM':\n",
    "            self.model = DPGMM(n_components=k, covariance_type='diag', alpha=alpha, random_state=None, \n",
    "                  thresh=None, tol=0.001, verbose=0, min_covar=None, n_iter=10, \n",
    "                  params='wmc', init_params='wmc')        \n",
    "        elif model_name == 'K-Means':\n",
    "            self.model = KMeans(n_clusters=k, init='k-means++', n_init=10, max_iter=300, \n",
    "                                tol=0.0001, precompute_distances='auto', verbose=0, random_state=None, \n",
    "                                copy_x=True, n_jobs=1)\n",
    "        else:\n",
    "            print 'enter valid cluster'\n",
    "            sys.exit(0)\n",
    "        \n",
    "    def fit_model(self):\n",
    "        self.model.fit(self.features_df)\n",
    "    \n",
    "    def cluster(self):\n",
    "        self.cluster_dict = {}\n",
    "        pred = self.model.predict(self.features_df)\n",
    "        self.features_df.loc[:, 'cluster'] = pred\n",
    "\n",
    "        for i, cluster in enumerate(np.unique(pred)):\n",
    "            self.cluster_dict[i] = list(self.features_df[self.features_df.loc[:, 'cluster'] == cluster]\\\n",
    "                                   .drop('cluster', axis = 1)\\\n",
    "                                   .index)"
   ]
  },
  {
   "cell_type": "code",
   "execution_count": 71,
   "metadata": {
    "collapsed": false
   },
   "outputs": [],
   "source": [
    "c = ClusteringImages(df, [0, 0, 1, 2, 3, 0, 0, 1], 'VBGMM', 1, 25)"
   ]
  },
  {
   "cell_type": "code",
   "execution_count": null,
   "metadata": {
    "collapsed": false
   },
   "outputs": [],
   "source": []
  },
  {
   "cell_type": "code",
   "execution_count": null,
   "metadata": {
    "collapsed": true
   },
   "outputs": [],
   "source": []
  }
 ],
 "metadata": {
  "anaconda-cloud": {},
  "kernelspec": {
   "display_name": "Python [default]",
   "language": "python",
   "name": "python2"
  },
  "language_info": {
   "codemirror_mode": {
    "name": "ipython",
    "version": 2
   },
   "file_extension": ".py",
   "mimetype": "text/x-python",
   "name": "python",
   "nbconvert_exporter": "python",
   "pygments_lexer": "ipython2",
   "version": "2.7.12"
  }
 },
 "nbformat": 4,
 "nbformat_minor": 0
}
