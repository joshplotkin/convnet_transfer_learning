{
 "cells": [
  {
   "cell_type": "code",
   "execution_count": 80,
   "metadata": {
    "collapsed": false
   },
   "outputs": [
    {
     "name": "stdout",
     "output_type": "stream",
     "text": [
      "The autotime extension is already loaded. To reload it, use:\n",
      "  %reload_ext autotime\n",
      "time: 64.3 ms\n"
     ]
    }
   ],
   "source": [
    "from __future__ import division\n",
    "from pandas import *\n",
    "import math\n",
    "import matplotlib.pyplot as plt\n",
    "import matplotlib.image as mpimg\n",
    "import os\n",
    "import scipy\n",
    "\n",
    "\n",
    "plt.style.use('ggplot')\n",
    "\n",
    "%matplotlib inline\n",
    "%load_ext autotime"
   ]
  },
  {
   "cell_type": "code",
   "execution_count": 81,
   "metadata": {
    "collapsed": false
   },
   "outputs": [
    {
     "name": "stdout",
     "output_type": "stream",
     "text": [
      "time: 20 ms\n"
     ]
    }
   ],
   "source": [
    "data_path = '../boots_dataset/'"
   ]
  },
  {
   "cell_type": "markdown",
   "metadata": {},
   "source": [
    "### load features -- drop all the duplicate images"
   ]
  },
  {
   "cell_type": "code",
   "execution_count": 82,
   "metadata": {
    "collapsed": false
   },
   "outputs": [
    {
     "data": {
      "text/plain": [
       "(7307, 4096)"
      ]
     },
     "execution_count": 82,
     "metadata": {},
     "output_type": "execute_result"
    },
    {
     "name": "stdout",
     "output_type": "stream",
     "text": [
      "time: 11.6 s\n"
     ]
    }
   ],
   "source": [
    "features = read_csv(data_path + 'boots_features.csv', \n",
    "                    index_col = 'asin')\\\n",
    "                .drop_duplicates()\n",
    "features.shape"
   ]
  },
  {
   "cell_type": "markdown",
   "metadata": {},
   "source": [
    "#### save those back"
   ]
  },
  {
   "cell_type": "code",
   "execution_count": 92,
   "metadata": {
    "collapsed": false
   },
   "outputs": [
    {
     "name": "stdout",
     "output_type": "stream",
     "text": [
      "time: 36.8 s\n"
     ]
    }
   ],
   "source": [
    "features.to_csv(data_path + 'boots_features_dedup.csv')"
   ]
  },
  {
   "cell_type": "code",
   "execution_count": 84,
   "metadata": {
    "collapsed": false
   },
   "outputs": [
    {
     "data": {
      "text/html": [
       "<div>\n",
       "<table border=\"1\" class=\"dataframe\">\n",
       "  <thead>\n",
       "    <tr style=\"text-align: right;\">\n",
       "      <th></th>\n",
       "      <th>0</th>\n",
       "      <th>1</th>\n",
       "      <th>2</th>\n",
       "      <th>3</th>\n",
       "      <th>4</th>\n",
       "      <th>5</th>\n",
       "      <th>6</th>\n",
       "      <th>7</th>\n",
       "      <th>8</th>\n",
       "      <th>9</th>\n",
       "      <th>...</th>\n",
       "      <th>4086</th>\n",
       "      <th>4087</th>\n",
       "      <th>4088</th>\n",
       "      <th>4089</th>\n",
       "      <th>4090</th>\n",
       "      <th>4091</th>\n",
       "      <th>4092</th>\n",
       "      <th>4093</th>\n",
       "      <th>4094</th>\n",
       "      <th>4095</th>\n",
       "    </tr>\n",
       "    <tr>\n",
       "      <th>asin</th>\n",
       "      <th></th>\n",
       "      <th></th>\n",
       "      <th></th>\n",
       "      <th></th>\n",
       "      <th></th>\n",
       "      <th></th>\n",
       "      <th></th>\n",
       "      <th></th>\n",
       "      <th></th>\n",
       "      <th></th>\n",
       "      <th></th>\n",
       "      <th></th>\n",
       "      <th></th>\n",
       "      <th></th>\n",
       "      <th></th>\n",
       "      <th></th>\n",
       "      <th></th>\n",
       "      <th></th>\n",
       "      <th></th>\n",
       "      <th></th>\n",
       "      <th></th>\n",
       "    </tr>\n",
       "  </thead>\n",
       "  <tbody>\n",
       "    <tr>\n",
       "      <th>B009XSN76O</th>\n",
       "      <td>0.0000</td>\n",
       "      <td>0.0000</td>\n",
       "      <td>0.0000</td>\n",
       "      <td>0.0</td>\n",
       "      <td>0.000</td>\n",
       "      <td>0.0</td>\n",
       "      <td>0.0000</td>\n",
       "      <td>0.0000</td>\n",
       "      <td>1.9695</td>\n",
       "      <td>0.0000</td>\n",
       "      <td>...</td>\n",
       "      <td>0.0</td>\n",
       "      <td>0.0</td>\n",
       "      <td>0.0</td>\n",
       "      <td>0.0</td>\n",
       "      <td>0.0000</td>\n",
       "      <td>1.2840</td>\n",
       "      <td>0.0</td>\n",
       "      <td>1.0314</td>\n",
       "      <td>0.0000</td>\n",
       "      <td>0.0</td>\n",
       "    </tr>\n",
       "    <tr>\n",
       "      <th>B0092OQN4C</th>\n",
       "      <td>1.2842</td>\n",
       "      <td>0.0000</td>\n",
       "      <td>0.0000</td>\n",
       "      <td>0.0</td>\n",
       "      <td>0.000</td>\n",
       "      <td>0.0</td>\n",
       "      <td>0.8610</td>\n",
       "      <td>1.8311</td>\n",
       "      <td>0.0000</td>\n",
       "      <td>1.7899</td>\n",
       "      <td>...</td>\n",
       "      <td>0.0</td>\n",
       "      <td>0.0</td>\n",
       "      <td>0.0</td>\n",
       "      <td>0.0</td>\n",
       "      <td>0.0000</td>\n",
       "      <td>0.0000</td>\n",
       "      <td>0.0</td>\n",
       "      <td>0.5421</td>\n",
       "      <td>0.6577</td>\n",
       "      <td>0.0</td>\n",
       "    </tr>\n",
       "    <tr>\n",
       "      <th>B00AJ1A23A</th>\n",
       "      <td>0.0000</td>\n",
       "      <td>3.2907</td>\n",
       "      <td>1.7814</td>\n",
       "      <td>0.0</td>\n",
       "      <td>0.000</td>\n",
       "      <td>0.0</td>\n",
       "      <td>0.4033</td>\n",
       "      <td>0.0000</td>\n",
       "      <td>0.0000</td>\n",
       "      <td>0.0000</td>\n",
       "      <td>...</td>\n",
       "      <td>0.0</td>\n",
       "      <td>0.0</td>\n",
       "      <td>0.0</td>\n",
       "      <td>0.0</td>\n",
       "      <td>0.5277</td>\n",
       "      <td>0.0000</td>\n",
       "      <td>0.0</td>\n",
       "      <td>0.0000</td>\n",
       "      <td>0.0000</td>\n",
       "      <td>0.0</td>\n",
       "    </tr>\n",
       "    <tr>\n",
       "      <th>B005IYS5ZA</th>\n",
       "      <td>0.0000</td>\n",
       "      <td>0.8051</td>\n",
       "      <td>0.0000</td>\n",
       "      <td>0.0</td>\n",
       "      <td>0.000</td>\n",
       "      <td>0.1</td>\n",
       "      <td>0.0000</td>\n",
       "      <td>0.3484</td>\n",
       "      <td>0.0000</td>\n",
       "      <td>1.3334</td>\n",
       "      <td>...</td>\n",
       "      <td>0.0</td>\n",
       "      <td>0.0</td>\n",
       "      <td>0.0</td>\n",
       "      <td>0.0</td>\n",
       "      <td>0.0000</td>\n",
       "      <td>3.2731</td>\n",
       "      <td>0.0</td>\n",
       "      <td>0.0507</td>\n",
       "      <td>0.0000</td>\n",
       "      <td>0.0</td>\n",
       "    </tr>\n",
       "    <tr>\n",
       "      <th>B007KHXTXQ</th>\n",
       "      <td>0.0000</td>\n",
       "      <td>0.0000</td>\n",
       "      <td>2.9935</td>\n",
       "      <td>0.0</td>\n",
       "      <td>1.199</td>\n",
       "      <td>0.0</td>\n",
       "      <td>0.0000</td>\n",
       "      <td>0.0000</td>\n",
       "      <td>2.8597</td>\n",
       "      <td>0.0000</td>\n",
       "      <td>...</td>\n",
       "      <td>0.0</td>\n",
       "      <td>0.0</td>\n",
       "      <td>0.0</td>\n",
       "      <td>0.0</td>\n",
       "      <td>2.6146</td>\n",
       "      <td>0.0000</td>\n",
       "      <td>0.0</td>\n",
       "      <td>0.0201</td>\n",
       "      <td>0.0000</td>\n",
       "      <td>0.0</td>\n",
       "    </tr>\n",
       "  </tbody>\n",
       "</table>\n",
       "<p>5 rows × 4096 columns</p>\n",
       "</div>"
      ],
      "text/plain": [
       "                 0       1       2    3      4    5       6       7       8  \\\n",
       "asin                                                                          \n",
       "B009XSN76O  0.0000  0.0000  0.0000  0.0  0.000  0.0  0.0000  0.0000  1.9695   \n",
       "B0092OQN4C  1.2842  0.0000  0.0000  0.0  0.000  0.0  0.8610  1.8311  0.0000   \n",
       "B00AJ1A23A  0.0000  3.2907  1.7814  0.0  0.000  0.0  0.4033  0.0000  0.0000   \n",
       "B005IYS5ZA  0.0000  0.8051  0.0000  0.0  0.000  0.1  0.0000  0.3484  0.0000   \n",
       "B007KHXTXQ  0.0000  0.0000  2.9935  0.0  1.199  0.0  0.0000  0.0000  2.8597   \n",
       "\n",
       "                 9  ...   4086  4087  4088  4089    4090    4091  4092  \\\n",
       "asin                ...                                                  \n",
       "B009XSN76O  0.0000  ...    0.0   0.0   0.0   0.0  0.0000  1.2840   0.0   \n",
       "B0092OQN4C  1.7899  ...    0.0   0.0   0.0   0.0  0.0000  0.0000   0.0   \n",
       "B00AJ1A23A  0.0000  ...    0.0   0.0   0.0   0.0  0.5277  0.0000   0.0   \n",
       "B005IYS5ZA  1.3334  ...    0.0   0.0   0.0   0.0  0.0000  3.2731   0.0   \n",
       "B007KHXTXQ  0.0000  ...    0.0   0.0   0.0   0.0  2.6146  0.0000   0.0   \n",
       "\n",
       "              4093    4094  4095  \n",
       "asin                              \n",
       "B009XSN76O  1.0314  0.0000   0.0  \n",
       "B0092OQN4C  0.5421  0.6577   0.0  \n",
       "B00AJ1A23A  0.0000  0.0000   0.0  \n",
       "B005IYS5ZA  0.0507  0.0000   0.0  \n",
       "B007KHXTXQ  0.0201  0.0000   0.0  \n",
       "\n",
       "[5 rows x 4096 columns]"
      ]
     },
     "execution_count": 84,
     "metadata": {},
     "output_type": "execute_result"
    },
    {
     "name": "stdout",
     "output_type": "stream",
     "text": [
      "time: 58.6 ms\n"
     ]
    }
   ],
   "source": [
    "features.head()"
   ]
  },
  {
   "cell_type": "markdown",
   "metadata": {},
   "source": [
    "### load metadata"
   ]
  },
  {
   "cell_type": "code",
   "execution_count": 85,
   "metadata": {
    "collapsed": false
   },
   "outputs": [
    {
     "name": "stdout",
     "output_type": "stream",
     "text": [
      "time: 153 ms\n"
     ]
    }
   ],
   "source": [
    "metadata = read_csv(data_path + 'boots_aws.csv', index_col = 'Unnamed: 0')\n",
    "metadata = metadata[metadata.pic_downloaded == True]"
   ]
  },
  {
   "cell_type": "code",
   "execution_count": 86,
   "metadata": {
    "collapsed": false,
    "scrolled": false
   },
   "outputs": [
    {
     "data": {
      "text/html": [
       "<div>\n",
       "<table border=\"1\" class=\"dataframe\">\n",
       "  <thead>\n",
       "    <tr style=\"text-align: right;\">\n",
       "      <th></th>\n",
       "      <th>title</th>\n",
       "      <th>brand</th>\n",
       "      <th>price</th>\n",
       "      <th>asin</th>\n",
       "      <th>related</th>\n",
       "      <th>imUrl</th>\n",
       "      <th>salesRank</th>\n",
       "      <th>categories</th>\n",
       "      <th>description</th>\n",
       "      <th>pic_downloaded</th>\n",
       "      <th>boots</th>\n",
       "      <th>sex</th>\n",
       "      <th>image_path</th>\n",
       "    </tr>\n",
       "  </thead>\n",
       "  <tbody>\n",
       "    <tr>\n",
       "      <th>1139</th>\n",
       "      <td>Justin Boots Black Iguana Lizard</td>\n",
       "      <td>NaN</td>\n",
       "      <td>329.95</td>\n",
       "      <td>B0000A1R6F</td>\n",
       "      <td>NaN</td>\n",
       "      <td>http://ecx.images-amazon.com/images/I/51AutsCt...</td>\n",
       "      <td>{'Shoes': 249279}</td>\n",
       "      <td>NaN</td>\n",
       "      <td>NaN</td>\n",
       "      <td>True</td>\n",
       "      <td>True</td>\n",
       "      <td>unknown</td>\n",
       "      <td>pics_boots/B0000A1R6F.jpg</td>\n",
       "    </tr>\n",
       "    <tr>\n",
       "      <th>1141</th>\n",
       "      <td>\"Justin Boots Men's Classic Western Boot\"</td>\n",
       "      <td>NaN</td>\n",
       "      <td>NaN</td>\n",
       "      <td>B0000A1RDO</td>\n",
       "      <td>{'also_bought': ['B000E9626I','B0041T42DC']'al...</td>\n",
       "      <td>http://ecx.images-amazon.com/images/I/41zrtA71...</td>\n",
       "      <td>{'Shoes': 53027}</td>\n",
       "      <td>NaN</td>\n",
       "      <td>NaN</td>\n",
       "      <td>True</td>\n",
       "      <td>True</td>\n",
       "      <td>men</td>\n",
       "      <td>pics_boots/B0000A1RDO.jpg</td>\n",
       "    </tr>\n",
       "    <tr>\n",
       "      <th>1142</th>\n",
       "      <td>\"Justin Boots Men's Classic Western Boot\"</td>\n",
       "      <td>NaN</td>\n",
       "      <td>NaN</td>\n",
       "      <td>B0000A1REG</td>\n",
       "      <td>{'also_bought': ['B000E9626I','B0041T42DC']'al...</td>\n",
       "      <td>http://ecx.images-amazon.com/images/I/41zrtA71...</td>\n",
       "      <td>{'Shoes': 53027}</td>\n",
       "      <td>NaN</td>\n",
       "      <td>NaN</td>\n",
       "      <td>True</td>\n",
       "      <td>True</td>\n",
       "      <td>men</td>\n",
       "      <td>pics_boots/B0000A1REG.jpg</td>\n",
       "    </tr>\n",
       "    <tr>\n",
       "      <th>2134</th>\n",
       "      <td>\"Children's Ostrich-Print Cowboy Boots-peanut ...</td>\n",
       "      <td>NaN</td>\n",
       "      <td>NaN</td>\n",
       "      <td>B0000CH8HL</td>\n",
       "      <td>{'also_bought': ['B00551RXJK','B002LMHSEG','B0...</td>\n",
       "      <td>http://ecx.images-amazon.com/images/I/21M7uJMJ...</td>\n",
       "      <td>{'Shoes': 89070}</td>\n",
       "      <td>NaN</td>\n",
       "      <td>NaN</td>\n",
       "      <td>True</td>\n",
       "      <td>True</td>\n",
       "      <td>men</td>\n",
       "      <td>pics_boots/B0000CH8HL.jpg</td>\n",
       "    </tr>\n",
       "    <tr>\n",
       "      <th>2785</th>\n",
       "      <td>\"Men's Itasca Waterproof Swampwalker II Rubber...</td>\n",
       "      <td>NaN</td>\n",
       "      <td>NaN</td>\n",
       "      <td>B0000WYVSA</td>\n",
       "      <td>{'also_viewed': ['B002OSXDSC','B002BH4GAU','B0...</td>\n",
       "      <td>http://ecx.images-amazon.com/images/I/41S6OxKc...</td>\n",
       "      <td>{'Shoes': 89433}</td>\n",
       "      <td>NaN</td>\n",
       "      <td>NaN</td>\n",
       "      <td>True</td>\n",
       "      <td>True</td>\n",
       "      <td>men</td>\n",
       "      <td>pics_boots/B0000WYVSA.jpg</td>\n",
       "    </tr>\n",
       "  </tbody>\n",
       "</table>\n",
       "</div>"
      ],
      "text/plain": [
       "                                                  title brand   price  \\\n",
       "1139                   Justin Boots Black Iguana Lizard   NaN  329.95   \n",
       "1141          \"Justin Boots Men's Classic Western Boot\"   NaN     NaN   \n",
       "1142          \"Justin Boots Men's Classic Western Boot\"   NaN     NaN   \n",
       "2134  \"Children's Ostrich-Print Cowboy Boots-peanut ...   NaN     NaN   \n",
       "2785  \"Men's Itasca Waterproof Swampwalker II Rubber...   NaN     NaN   \n",
       "\n",
       "            asin                                            related  \\\n",
       "1139  B0000A1R6F                                                NaN   \n",
       "1141  B0000A1RDO  {'also_bought': ['B000E9626I','B0041T42DC']'al...   \n",
       "1142  B0000A1REG  {'also_bought': ['B000E9626I','B0041T42DC']'al...   \n",
       "2134  B0000CH8HL  {'also_bought': ['B00551RXJK','B002LMHSEG','B0...   \n",
       "2785  B0000WYVSA  {'also_viewed': ['B002OSXDSC','B002BH4GAU','B0...   \n",
       "\n",
       "                                                  imUrl          salesRank  \\\n",
       "1139  http://ecx.images-amazon.com/images/I/51AutsCt...  {'Shoes': 249279}   \n",
       "1141  http://ecx.images-amazon.com/images/I/41zrtA71...   {'Shoes': 53027}   \n",
       "1142  http://ecx.images-amazon.com/images/I/41zrtA71...   {'Shoes': 53027}   \n",
       "2134  http://ecx.images-amazon.com/images/I/21M7uJMJ...   {'Shoes': 89070}   \n",
       "2785  http://ecx.images-amazon.com/images/I/41S6OxKc...   {'Shoes': 89433}   \n",
       "\n",
       "     categories description pic_downloaded boots      sex  \\\n",
       "1139        NaN         NaN           True  True  unknown   \n",
       "1141        NaN         NaN           True  True      men   \n",
       "1142        NaN         NaN           True  True      men   \n",
       "2134        NaN         NaN           True  True      men   \n",
       "2785        NaN         NaN           True  True      men   \n",
       "\n",
       "                     image_path  \n",
       "1139  pics_boots/B0000A1R6F.jpg  \n",
       "1141  pics_boots/B0000A1RDO.jpg  \n",
       "1142  pics_boots/B0000A1REG.jpg  \n",
       "2134  pics_boots/B0000CH8HL.jpg  \n",
       "2785  pics_boots/B0000WYVSA.jpg  "
      ]
     },
     "execution_count": 86,
     "metadata": {},
     "output_type": "execute_result"
    },
    {
     "name": "stdout",
     "output_type": "stream",
     "text": [
      "time: 53 ms\n"
     ]
    }
   ],
   "source": [
    "metadata.head()"
   ]
  },
  {
   "cell_type": "markdown",
   "metadata": {},
   "source": [
    "#### add a category of rain/snow boots"
   ]
  },
  {
   "cell_type": "code",
   "execution_count": 87,
   "metadata": {
    "collapsed": false
   },
   "outputs": [
    {
     "data": {
      "text/plain": [
       "women       6709\n",
       "men         2147\n",
       "unknown     1945\n",
       "children     337\n",
       "unisex       106\n",
       "Name: sex, dtype: int64"
      ]
     },
     "execution_count": 87,
     "metadata": {},
     "output_type": "execute_result"
    },
    {
     "name": "stdout",
     "output_type": "stream",
     "text": [
      "time: 29.1 ms\n"
     ]
    }
   ],
   "source": [
    "metadata.sex.value_counts()"
   ]
  },
  {
   "cell_type": "code",
   "execution_count": 88,
   "metadata": {
    "collapsed": false
   },
   "outputs": [
    {
     "name": "stdout",
     "output_type": "stream",
     "text": [
      "time: 71.8 ms\n"
     ]
    }
   ],
   "source": [
    "def sex_of_boots(x):\n",
    "    for rain_word in ['rain','snow']:\n",
    "        if rain_word in x:\n",
    "            return 'weather'        \n",
    "    for woman_word in ['women', 'woman', 'ladies', 'lady', 'girl']:\n",
    "        if woman_word in x:\n",
    "            return 'women'\n",
    "    for man_word in ['men', 'man', 'boy']:\n",
    "        if man_word in x:\n",
    "            return 'men'\n",
    "    for child_word in ['kid', 'child', 'youth', 'baby', 'infant']:\n",
    "        if child_word in x:\n",
    "            return 'children'\n",
    "    for unisex_word in ['unisex', 'adult']:\n",
    "        if unisex_word in x:\n",
    "            return 'unisex'\n",
    "    else:\n",
    "        return 'unknown'\n",
    "\n",
    "metadata.loc[:, 'sex'] = metadata.loc[:, 'title']\\\n",
    "                .apply(lambda x: sex_of_boots(x.lower()))"
   ]
  },
  {
   "cell_type": "code",
   "execution_count": 89,
   "metadata": {
    "collapsed": false
   },
   "outputs": [
    {
     "data": {
      "text/plain": [
       "women       5877\n",
       "men         2005\n",
       "unknown     1747\n",
       "weather     1201\n",
       "children     309\n",
       "unisex       105\n",
       "Name: sex, dtype: int64"
      ]
     },
     "execution_count": 89,
     "metadata": {},
     "output_type": "execute_result"
    },
    {
     "name": "stdout",
     "output_type": "stream",
     "text": [
      "time: 37.7 ms\n"
     ]
    }
   ],
   "source": [
    "metadata.sex.value_counts()"
   ]
  },
  {
   "cell_type": "markdown",
   "metadata": {},
   "source": [
    "### make a men's/women's metadata set"
   ]
  },
  {
   "cell_type": "code",
   "execution_count": 90,
   "metadata": {
    "collapsed": false
   },
   "outputs": [
    {
     "name": "stdout",
     "output_type": "stream",
     "text": [
      "time: 360 ms\n"
     ]
    }
   ],
   "source": [
    "metadata.to_csv(data_path + 'boots_aws_160403.csv')\n",
    "\n",
    "men = metadata[metadata.sex == 'men']\n",
    "women = metadata[metadata.sex == 'women']\n",
    "\n",
    "men.to_csv(data_path + 'metadata_men.csv')\n",
    "women.to_csv(data_path + 'metadata_women.csv')"
   ]
  },
  {
   "cell_type": "markdown",
   "metadata": {},
   "source": [
    "### make a men's/women's feature set"
   ]
  },
  {
   "cell_type": "code",
   "execution_count": 93,
   "metadata": {
    "collapsed": false
   },
   "outputs": [
    {
     "name": "stdout",
     "output_type": "stream",
     "text": [
      "time: 25.5 s\n"
     ]
    }
   ],
   "source": [
    "features_women = features[features.index.isin(women.asin)]\n",
    "features_men = features[features.index.isin(men.asin)]\n",
    "features_women.to_csv(data_path + 'features_women.csv')\n",
    "features_men.to_csv(data_path + 'features_men.csv')"
   ]
  }
 ],
 "metadata": {
  "kernelspec": {
   "display_name": "Python 2",
   "language": "python",
   "name": "python2"
  },
  "language_info": {
   "codemirror_mode": {
    "name": "ipython",
    "version": 2
   },
   "file_extension": ".py",
   "mimetype": "text/x-python",
   "name": "python",
   "nbconvert_exporter": "python",
   "pygments_lexer": "ipython2",
   "version": "2.7.11"
  }
 },
 "nbformat": 4,
 "nbformat_minor": 0
}
