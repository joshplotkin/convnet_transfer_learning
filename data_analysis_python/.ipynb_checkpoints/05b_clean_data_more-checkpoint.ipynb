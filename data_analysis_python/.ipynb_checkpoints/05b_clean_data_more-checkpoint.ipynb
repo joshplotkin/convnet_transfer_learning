{
 "cells": [
  {
   "cell_type": "code",
   "execution_count": 2,
   "metadata": {
    "collapsed": true
   },
   "outputs": [],
   "source": [
    "from pandas import *\n",
    "%load_ext autotime"
   ]
  },
  {
   "cell_type": "code",
   "execution_count": 3,
   "metadata": {
    "collapsed": false
   },
   "outputs": [
    {
     "name": "stdout",
     "output_type": "stream",
     "text": [
      "time: 724 µs\n"
     ]
    }
   ],
   "source": [
    "data_path = '../boots_dataset/'"
   ]
  },
  {
   "cell_type": "code",
   "execution_count": 95,
   "metadata": {
    "collapsed": false
   },
   "outputs": [
    {
     "name": "stdout",
     "output_type": "stream",
     "text": [
      "time: 131 ms\n"
     ]
    }
   ],
   "source": [
    "metadata = read_csv(data_path + 'boots_aws_160403.csv', index_col = 'Unnamed: 0').drop_duplicates()\n",
    "metadata.index.name = '#'"
   ]
  },
  {
   "cell_type": "code",
   "execution_count": 96,
   "metadata": {
    "collapsed": false
   },
   "outputs": [
    {
     "data": {
      "text/html": [
       "<div>\n",
       "<table border=\"1\" class=\"dataframe\">\n",
       "  <thead>\n",
       "    <tr style=\"text-align: right;\">\n",
       "      <th></th>\n",
       "      <th>title</th>\n",
       "      <th>brand</th>\n",
       "      <th>price</th>\n",
       "      <th>asin</th>\n",
       "      <th>related</th>\n",
       "      <th>imUrl</th>\n",
       "      <th>salesRank</th>\n",
       "      <th>categories</th>\n",
       "      <th>description</th>\n",
       "      <th>pic_downloaded</th>\n",
       "      <th>boots</th>\n",
       "      <th>sex</th>\n",
       "      <th>image_path</th>\n",
       "    </tr>\n",
       "    <tr>\n",
       "      <th>#</th>\n",
       "      <th></th>\n",
       "      <th></th>\n",
       "      <th></th>\n",
       "      <th></th>\n",
       "      <th></th>\n",
       "      <th></th>\n",
       "      <th></th>\n",
       "      <th></th>\n",
       "      <th></th>\n",
       "      <th></th>\n",
       "      <th></th>\n",
       "      <th></th>\n",
       "      <th></th>\n",
       "    </tr>\n",
       "  </thead>\n",
       "  <tbody>\n",
       "    <tr>\n",
       "      <th>1139</th>\n",
       "      <td>Justin Boots Black Iguana Lizard</td>\n",
       "      <td>NaN</td>\n",
       "      <td>329.95</td>\n",
       "      <td>B0000A1R6F</td>\n",
       "      <td>NaN</td>\n",
       "      <td>http://ecx.images-amazon.com/images/I/51AutsCt...</td>\n",
       "      <td>{'Shoes': 249279}</td>\n",
       "      <td>NaN</td>\n",
       "      <td>NaN</td>\n",
       "      <td>True</td>\n",
       "      <td>True</td>\n",
       "      <td>unknown</td>\n",
       "      <td>pics_boots/B0000A1R6F.jpg</td>\n",
       "    </tr>\n",
       "    <tr>\n",
       "      <th>1141</th>\n",
       "      <td>\"Justin Boots Men's Classic Western Boot\"</td>\n",
       "      <td>NaN</td>\n",
       "      <td>NaN</td>\n",
       "      <td>B0000A1RDO</td>\n",
       "      <td>{'also_bought': ['B000E9626I','B0041T42DC']'al...</td>\n",
       "      <td>http://ecx.images-amazon.com/images/I/41zrtA71...</td>\n",
       "      <td>{'Shoes': 53027}</td>\n",
       "      <td>NaN</td>\n",
       "      <td>NaN</td>\n",
       "      <td>True</td>\n",
       "      <td>True</td>\n",
       "      <td>men</td>\n",
       "      <td>pics_boots/B0000A1RDO.jpg</td>\n",
       "    </tr>\n",
       "    <tr>\n",
       "      <th>1142</th>\n",
       "      <td>\"Justin Boots Men's Classic Western Boot\"</td>\n",
       "      <td>NaN</td>\n",
       "      <td>NaN</td>\n",
       "      <td>B0000A1REG</td>\n",
       "      <td>{'also_bought': ['B000E9626I','B0041T42DC']'al...</td>\n",
       "      <td>http://ecx.images-amazon.com/images/I/41zrtA71...</td>\n",
       "      <td>{'Shoes': 53027}</td>\n",
       "      <td>NaN</td>\n",
       "      <td>NaN</td>\n",
       "      <td>True</td>\n",
       "      <td>True</td>\n",
       "      <td>men</td>\n",
       "      <td>pics_boots/B0000A1REG.jpg</td>\n",
       "    </tr>\n",
       "    <tr>\n",
       "      <th>2134</th>\n",
       "      <td>\"Children's Ostrich-Print Cowboy Boots-peanut ...</td>\n",
       "      <td>NaN</td>\n",
       "      <td>NaN</td>\n",
       "      <td>B0000CH8HL</td>\n",
       "      <td>{'also_bought': ['B00551RXJK','B002LMHSEG','B0...</td>\n",
       "      <td>http://ecx.images-amazon.com/images/I/21M7uJMJ...</td>\n",
       "      <td>{'Shoes': 89070}</td>\n",
       "      <td>NaN</td>\n",
       "      <td>NaN</td>\n",
       "      <td>True</td>\n",
       "      <td>True</td>\n",
       "      <td>men</td>\n",
       "      <td>pics_boots/B0000CH8HL.jpg</td>\n",
       "    </tr>\n",
       "    <tr>\n",
       "      <th>2785</th>\n",
       "      <td>\"Men's Itasca Waterproof Swampwalker II Rubber...</td>\n",
       "      <td>NaN</td>\n",
       "      <td>NaN</td>\n",
       "      <td>B0000WYVSA</td>\n",
       "      <td>{'also_viewed': ['B002OSXDSC','B002BH4GAU','B0...</td>\n",
       "      <td>http://ecx.images-amazon.com/images/I/41S6OxKc...</td>\n",
       "      <td>{'Shoes': 89433}</td>\n",
       "      <td>NaN</td>\n",
       "      <td>NaN</td>\n",
       "      <td>True</td>\n",
       "      <td>True</td>\n",
       "      <td>men</td>\n",
       "      <td>pics_boots/B0000WYVSA.jpg</td>\n",
       "    </tr>\n",
       "  </tbody>\n",
       "</table>\n",
       "</div>"
      ],
      "text/plain": [
       "                                                  title brand   price  \\\n",
       "#                                                                       \n",
       "1139                   Justin Boots Black Iguana Lizard   NaN  329.95   \n",
       "1141          \"Justin Boots Men's Classic Western Boot\"   NaN     NaN   \n",
       "1142          \"Justin Boots Men's Classic Western Boot\"   NaN     NaN   \n",
       "2134  \"Children's Ostrich-Print Cowboy Boots-peanut ...   NaN     NaN   \n",
       "2785  \"Men's Itasca Waterproof Swampwalker II Rubber...   NaN     NaN   \n",
       "\n",
       "            asin                                            related  \\\n",
       "#                                                                     \n",
       "1139  B0000A1R6F                                                NaN   \n",
       "1141  B0000A1RDO  {'also_bought': ['B000E9626I','B0041T42DC']'al...   \n",
       "1142  B0000A1REG  {'also_bought': ['B000E9626I','B0041T42DC']'al...   \n",
       "2134  B0000CH8HL  {'also_bought': ['B00551RXJK','B002LMHSEG','B0...   \n",
       "2785  B0000WYVSA  {'also_viewed': ['B002OSXDSC','B002BH4GAU','B0...   \n",
       "\n",
       "                                                  imUrl          salesRank  \\\n",
       "#                                                                            \n",
       "1139  http://ecx.images-amazon.com/images/I/51AutsCt...  {'Shoes': 249279}   \n",
       "1141  http://ecx.images-amazon.com/images/I/41zrtA71...   {'Shoes': 53027}   \n",
       "1142  http://ecx.images-amazon.com/images/I/41zrtA71...   {'Shoes': 53027}   \n",
       "2134  http://ecx.images-amazon.com/images/I/21M7uJMJ...   {'Shoes': 89070}   \n",
       "2785  http://ecx.images-amazon.com/images/I/41S6OxKc...   {'Shoes': 89433}   \n",
       "\n",
       "     categories description pic_downloaded boots      sex  \\\n",
       "#                                                           \n",
       "1139        NaN         NaN           True  True  unknown   \n",
       "1141        NaN         NaN           True  True      men   \n",
       "1142        NaN         NaN           True  True      men   \n",
       "2134        NaN         NaN           True  True      men   \n",
       "2785        NaN         NaN           True  True      men   \n",
       "\n",
       "                     image_path  \n",
       "#                                \n",
       "1139  pics_boots/B0000A1R6F.jpg  \n",
       "1141  pics_boots/B0000A1RDO.jpg  \n",
       "1142  pics_boots/B0000A1REG.jpg  \n",
       "2134  pics_boots/B0000CH8HL.jpg  \n",
       "2785  pics_boots/B0000WYVSA.jpg  "
      ]
     },
     "execution_count": 96,
     "metadata": {},
     "output_type": "execute_result"
    },
    {
     "name": "stdout",
     "output_type": "stream",
     "text": [
      "time: 19.6 ms\n"
     ]
    }
   ],
   "source": [
    "metadata.head()"
   ]
  },
  {
   "cell_type": "code",
   "execution_count": 61,
   "metadata": {
    "collapsed": false
   },
   "outputs": [
    {
     "name": "stdout",
     "output_type": "stream",
     "text": [
      "time: 12.9 ms\n"
     ]
    }
   ],
   "source": [
    "keys = ['also_viewed','also_bought','bought_together','buy_after_viewing']\n",
    "\n",
    "def extract_key_value(kv, item_dict):\n",
    "    kv_split = kv.split(\": \")\n",
    "    k = kv_split[0][1:].replace(\"'\",'')\n",
    "    v = \": \".join(kv_split[1:]).replace(\"''\",\"','\")\n",
    "    if v[0] == \"'\":\n",
    "        v = v[1:-1]\n",
    "    item_dict[k] = v\n",
    "    return item_dict\n",
    "\n",
    "def make_item_dict(item):\n",
    "    item_dict = {}\n",
    "    curr = ''\n",
    "\n",
    "    for i in item:\n",
    "        key_found = [k for k in keys if k in i]\n",
    "        if len(key_found) == 1:\n",
    "            if curr != '':\n",
    "                item_dict = extract_key_value(curr, item_dict)\n",
    "            curr = i\n",
    "        elif len(key_found) == 0:\n",
    "            curr += i\n",
    "        else:\n",
    "            print 'TOO MANY KEYS'\n",
    "            print i\n",
    "            print item\n",
    "            sys.exit(0)\n",
    "    if curr != '':\n",
    "        item_dict = extract_key_value(curr, item_dict)\n",
    "    return item_dict"
   ]
  },
  {
   "cell_type": "code",
   "execution_count": 97,
   "metadata": {
    "collapsed": false
   },
   "outputs": [
    {
     "name": "stdout",
     "output_type": "stream",
     "text": [
      "time: 138 ms\n"
     ]
    }
   ],
   "source": [
    "def extract_related(x):\n",
    "    if type(x) is float:\n",
    "        return x\n",
    "    x = x[1:-2].replace(\"']'\",\"'], '\").split(', ')\n",
    "    return make_item_dict(x)\n",
    "    \n",
    "metadata.loc[:, 'related_d'] = metadata.loc[:, 'related'].apply(lambda x: extract_related(x))"
   ]
  },
  {
   "cell_type": "code",
   "execution_count": 103,
   "metadata": {
    "collapsed": false
   },
   "outputs": [
    {
     "name": "stdout",
     "output_type": "stream",
     "text": [
      "time: 73.3 ms\n"
     ]
    }
   ],
   "source": [
    "def extract_dict(x, k):\n",
    "    if type(x) is float:\n",
    "        return x\n",
    "    if k in x.keys():\n",
    "        return np.array(x[k])\n",
    "    else:\n",
    "        return float('nan')\n",
    "\n",
    "for k in keys:\n",
    "    metadata.loc[:, k] = metadata.loc[:, 'related_d']\\\n",
    "                            .apply(lambda x: extract_dict(x, k))"
   ]
  },
  {
   "cell_type": "code",
   "execution_count": 104,
   "metadata": {
    "collapsed": false
   },
   "outputs": [
    {
     "data": {
      "text/html": [
       "<div>\n",
       "<table border=\"1\" class=\"dataframe\">\n",
       "  <thead>\n",
       "    <tr style=\"text-align: right;\">\n",
       "      <th></th>\n",
       "      <th>title</th>\n",
       "      <th>brand</th>\n",
       "      <th>price</th>\n",
       "      <th>asin</th>\n",
       "      <th>related</th>\n",
       "      <th>imUrl</th>\n",
       "      <th>salesRank</th>\n",
       "      <th>categories</th>\n",
       "      <th>description</th>\n",
       "      <th>pic_downloaded</th>\n",
       "      <th>boots</th>\n",
       "      <th>sex</th>\n",
       "      <th>image_path</th>\n",
       "      <th>related_d</th>\n",
       "      <th>also_viewed</th>\n",
       "      <th>also_bought</th>\n",
       "      <th>bought_together</th>\n",
       "      <th>buy_after_viewing</th>\n",
       "      <th>salesRank_category</th>\n",
       "      <th>salesRank_rank</th>\n",
       "    </tr>\n",
       "    <tr>\n",
       "      <th>#</th>\n",
       "      <th></th>\n",
       "      <th></th>\n",
       "      <th></th>\n",
       "      <th></th>\n",
       "      <th></th>\n",
       "      <th></th>\n",
       "      <th></th>\n",
       "      <th></th>\n",
       "      <th></th>\n",
       "      <th></th>\n",
       "      <th></th>\n",
       "      <th></th>\n",
       "      <th></th>\n",
       "      <th></th>\n",
       "      <th></th>\n",
       "      <th></th>\n",
       "      <th></th>\n",
       "      <th></th>\n",
       "      <th></th>\n",
       "      <th></th>\n",
       "    </tr>\n",
       "  </thead>\n",
       "  <tbody>\n",
       "    <tr>\n",
       "      <th>1139</th>\n",
       "      <td>Justin Boots Black Iguana Lizard</td>\n",
       "      <td>NaN</td>\n",
       "      <td>329.95</td>\n",
       "      <td>B0000A1R6F</td>\n",
       "      <td>NaN</td>\n",
       "      <td>http://ecx.images-amazon.com/images/I/51AutsCt...</td>\n",
       "      <td>{'Shoes': 249279}</td>\n",
       "      <td>NaN</td>\n",
       "      <td>NaN</td>\n",
       "      <td>True</td>\n",
       "      <td>True</td>\n",
       "      <td>unknown</td>\n",
       "      <td>pics_boots/B0000A1R6F.jpg</td>\n",
       "      <td>NaN</td>\n",
       "      <td>NaN</td>\n",
       "      <td>NaN</td>\n",
       "      <td>NaN</td>\n",
       "      <td>NaN</td>\n",
       "      <td>Shoes</td>\n",
       "      <td>249279</td>\n",
       "    </tr>\n",
       "    <tr>\n",
       "      <th>1141</th>\n",
       "      <td>\"Justin Boots Men's Classic Western Boot\"</td>\n",
       "      <td>NaN</td>\n",
       "      <td>NaN</td>\n",
       "      <td>B0000A1RDO</td>\n",
       "      <td>{'also_bought': ['B000E9626I','B0041T42DC']'al...</td>\n",
       "      <td>http://ecx.images-amazon.com/images/I/41zrtA71...</td>\n",
       "      <td>{'Shoes': 53027}</td>\n",
       "      <td>NaN</td>\n",
       "      <td>NaN</td>\n",
       "      <td>True</td>\n",
       "      <td>True</td>\n",
       "      <td>men</td>\n",
       "      <td>pics_boots/B0000A1RDO.jpg</td>\n",
       "      <td>{u'also_bought': u'['B000E9626I','B0041T42DC']...</td>\n",
       "      <td>['B00GJOPGNC','B0051SFB4Q','B000YDCUW4','B008R...</td>\n",
       "      <td>['B000E9626I','B0041T42DC']</td>\n",
       "      <td>NaN</td>\n",
       "      <td>NaN</td>\n",
       "      <td>Shoes</td>\n",
       "      <td>53027</td>\n",
       "    </tr>\n",
       "    <tr>\n",
       "      <th>1142</th>\n",
       "      <td>\"Justin Boots Men's Classic Western Boot\"</td>\n",
       "      <td>NaN</td>\n",
       "      <td>NaN</td>\n",
       "      <td>B0000A1REG</td>\n",
       "      <td>{'also_bought': ['B000E9626I','B0041T42DC']'al...</td>\n",
       "      <td>http://ecx.images-amazon.com/images/I/41zrtA71...</td>\n",
       "      <td>{'Shoes': 53027}</td>\n",
       "      <td>NaN</td>\n",
       "      <td>NaN</td>\n",
       "      <td>True</td>\n",
       "      <td>True</td>\n",
       "      <td>men</td>\n",
       "      <td>pics_boots/B0000A1REG.jpg</td>\n",
       "      <td>{u'also_bought': u'['B000E9626I','B0041T42DC']...</td>\n",
       "      <td>['B00GJOPGNC','B0051SFB4Q','B000YDCUW4','B008R...</td>\n",
       "      <td>['B000E9626I','B0041T42DC']</td>\n",
       "      <td>NaN</td>\n",
       "      <td>NaN</td>\n",
       "      <td>Shoes</td>\n",
       "      <td>53027</td>\n",
       "    </tr>\n",
       "    <tr>\n",
       "      <th>2134</th>\n",
       "      <td>\"Children's Ostrich-Print Cowboy Boots-peanut ...</td>\n",
       "      <td>NaN</td>\n",
       "      <td>NaN</td>\n",
       "      <td>B0000CH8HL</td>\n",
       "      <td>{'also_bought': ['B00551RXJK','B002LMHSEG','B0...</td>\n",
       "      <td>http://ecx.images-amazon.com/images/I/21M7uJMJ...</td>\n",
       "      <td>{'Shoes': 89070}</td>\n",
       "      <td>NaN</td>\n",
       "      <td>NaN</td>\n",
       "      <td>True</td>\n",
       "      <td>True</td>\n",
       "      <td>men</td>\n",
       "      <td>pics_boots/B0000CH8HL.jpg</td>\n",
       "      <td>{u'also_bought': u'['B00551RXJK','B002LMHSEG',...</td>\n",
       "      <td>NaN</td>\n",
       "      <td>['B00551RXJK','B002LMHSEG','B0007UO42S','B004H...</td>\n",
       "      <td>['B00551RXJK','B002LMHSEG','B0007UO42S','B002C...</td>\n",
       "      <td>NaN</td>\n",
       "      <td>Shoes</td>\n",
       "      <td>89070</td>\n",
       "    </tr>\n",
       "    <tr>\n",
       "      <th>2785</th>\n",
       "      <td>\"Men's Itasca Waterproof Swampwalker II Rubber...</td>\n",
       "      <td>NaN</td>\n",
       "      <td>NaN</td>\n",
       "      <td>B0000WYVSA</td>\n",
       "      <td>{'also_viewed': ['B002OSXDSC','B002BH4GAU','B0...</td>\n",
       "      <td>http://ecx.images-amazon.com/images/I/41S6OxKc...</td>\n",
       "      <td>{'Shoes': 89433}</td>\n",
       "      <td>NaN</td>\n",
       "      <td>NaN</td>\n",
       "      <td>True</td>\n",
       "      <td>True</td>\n",
       "      <td>men</td>\n",
       "      <td>pics_boots/B0000WYVSA.jpg</td>\n",
       "      <td>{u'also_viewed': u'['B002OSXDSC','B002BH4GAU',...</td>\n",
       "      <td>['B002OSXDSC','B002BH4GAU','B000HHQE74','B004Y...</td>\n",
       "      <td>NaN</td>\n",
       "      <td>NaN</td>\n",
       "      <td>NaN</td>\n",
       "      <td>Shoes</td>\n",
       "      <td>89433</td>\n",
       "    </tr>\n",
       "  </tbody>\n",
       "</table>\n",
       "</div>"
      ],
      "text/plain": [
       "                                                  title brand   price  \\\n",
       "#                                                                       \n",
       "1139                   Justin Boots Black Iguana Lizard   NaN  329.95   \n",
       "1141          \"Justin Boots Men's Classic Western Boot\"   NaN     NaN   \n",
       "1142          \"Justin Boots Men's Classic Western Boot\"   NaN     NaN   \n",
       "2134  \"Children's Ostrich-Print Cowboy Boots-peanut ...   NaN     NaN   \n",
       "2785  \"Men's Itasca Waterproof Swampwalker II Rubber...   NaN     NaN   \n",
       "\n",
       "            asin                                            related  \\\n",
       "#                                                                     \n",
       "1139  B0000A1R6F                                                NaN   \n",
       "1141  B0000A1RDO  {'also_bought': ['B000E9626I','B0041T42DC']'al...   \n",
       "1142  B0000A1REG  {'also_bought': ['B000E9626I','B0041T42DC']'al...   \n",
       "2134  B0000CH8HL  {'also_bought': ['B00551RXJK','B002LMHSEG','B0...   \n",
       "2785  B0000WYVSA  {'also_viewed': ['B002OSXDSC','B002BH4GAU','B0...   \n",
       "\n",
       "                                                  imUrl          salesRank  \\\n",
       "#                                                                            \n",
       "1139  http://ecx.images-amazon.com/images/I/51AutsCt...  {'Shoes': 249279}   \n",
       "1141  http://ecx.images-amazon.com/images/I/41zrtA71...   {'Shoes': 53027}   \n",
       "1142  http://ecx.images-amazon.com/images/I/41zrtA71...   {'Shoes': 53027}   \n",
       "2134  http://ecx.images-amazon.com/images/I/21M7uJMJ...   {'Shoes': 89070}   \n",
       "2785  http://ecx.images-amazon.com/images/I/41S6OxKc...   {'Shoes': 89433}   \n",
       "\n",
       "     categories description pic_downloaded boots      sex  \\\n",
       "#                                                           \n",
       "1139        NaN         NaN           True  True  unknown   \n",
       "1141        NaN         NaN           True  True      men   \n",
       "1142        NaN         NaN           True  True      men   \n",
       "2134        NaN         NaN           True  True      men   \n",
       "2785        NaN         NaN           True  True      men   \n",
       "\n",
       "                     image_path  \\\n",
       "#                                 \n",
       "1139  pics_boots/B0000A1R6F.jpg   \n",
       "1141  pics_boots/B0000A1RDO.jpg   \n",
       "1142  pics_boots/B0000A1REG.jpg   \n",
       "2134  pics_boots/B0000CH8HL.jpg   \n",
       "2785  pics_boots/B0000WYVSA.jpg   \n",
       "\n",
       "                                              related_d  \\\n",
       "#                                                         \n",
       "1139                                                NaN   \n",
       "1141  {u'also_bought': u'['B000E9626I','B0041T42DC']...   \n",
       "1142  {u'also_bought': u'['B000E9626I','B0041T42DC']...   \n",
       "2134  {u'also_bought': u'['B00551RXJK','B002LMHSEG',...   \n",
       "2785  {u'also_viewed': u'['B002OSXDSC','B002BH4GAU',...   \n",
       "\n",
       "                                            also_viewed  \\\n",
       "#                                                         \n",
       "1139                                                NaN   \n",
       "1141  ['B00GJOPGNC','B0051SFB4Q','B000YDCUW4','B008R...   \n",
       "1142  ['B00GJOPGNC','B0051SFB4Q','B000YDCUW4','B008R...   \n",
       "2134                                                NaN   \n",
       "2785  ['B002OSXDSC','B002BH4GAU','B000HHQE74','B004Y...   \n",
       "\n",
       "                                            also_bought  \\\n",
       "#                                                         \n",
       "1139                                                NaN   \n",
       "1141                        ['B000E9626I','B0041T42DC']   \n",
       "1142                        ['B000E9626I','B0041T42DC']   \n",
       "2134  ['B00551RXJK','B002LMHSEG','B0007UO42S','B004H...   \n",
       "2785                                                NaN   \n",
       "\n",
       "                                        bought_together buy_after_viewing  \\\n",
       "#                                                                           \n",
       "1139                                                NaN               NaN   \n",
       "1141                                                NaN               NaN   \n",
       "1142                                                NaN               NaN   \n",
       "2134  ['B00551RXJK','B002LMHSEG','B0007UO42S','B002C...               NaN   \n",
       "2785                                                NaN               NaN   \n",
       "\n",
       "     salesRank_category salesRank_rank  \n",
       "#                                       \n",
       "1139              Shoes         249279  \n",
       "1141              Shoes          53027  \n",
       "1142              Shoes          53027  \n",
       "2134              Shoes          89070  \n",
       "2785              Shoes          89433  "
      ]
     },
     "execution_count": 104,
     "metadata": {},
     "output_type": "execute_result"
    },
    {
     "name": "stdout",
     "output_type": "stream",
     "text": [
      "time: 33.6 ms\n"
     ]
    }
   ],
   "source": [
    "metadata.head()"
   ]
  },
  {
   "cell_type": "code",
   "execution_count": 100,
   "metadata": {
    "collapsed": false
   },
   "outputs": [
    {
     "name": "stdout",
     "output_type": "stream",
     "text": [
      "time: 50.6 ms\n"
     ]
    }
   ],
   "source": [
    "def sales_rank(x, val):\n",
    "    if type(x) is float or x == '{}':\n",
    "        return float('nan')\n",
    "    x = x.replace('{','').replace('}','').replace(\"'\",'').split(':')\n",
    "    if val == 'cat':\n",
    "        return x[0].strip()\n",
    "    else:\n",
    "        return x[1].strip()\n",
    "\n",
    "metadata.loc[:, 'salesRank_category'] = metadata.loc[:, 'salesRank'].apply(lambda x: sales_rank(x, 'cat'))\n",
    "metadata.loc[:, 'salesRank_rank'] = metadata.loc[:, 'salesRank'].apply(lambda x: sales_rank(x, 'rank'))"
   ]
  },
  {
   "cell_type": "code",
   "execution_count": 102,
   "metadata": {
    "collapsed": false
   },
   "outputs": [
    {
     "name": "stdout",
     "output_type": "stream",
     "text": [
      "time: 434 ms\n"
     ]
    }
   ],
   "source": [
    "metadata.to_csv(data_path + 'boots_aws_metadata_160405.csv')"
   ]
  },
  {
   "cell_type": "code",
   "execution_count": null,
   "metadata": {
    "collapsed": true
   },
   "outputs": [],
   "source": []
  }
 ],
 "metadata": {
  "kernelspec": {
   "display_name": "Python 2",
   "language": "python",
   "name": "python2"
  },
  "language_info": {
   "codemirror_mode": {
    "name": "ipython",
    "version": 2
   },
   "file_extension": ".py",
   "mimetype": "text/x-python",
   "name": "python",
   "nbconvert_exporter": "python",
   "pygments_lexer": "ipython2",
   "version": "2.7.11"
  }
 },
 "nbformat": 4,
 "nbformat_minor": 0
}
