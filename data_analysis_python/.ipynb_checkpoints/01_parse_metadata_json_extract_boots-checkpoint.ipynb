{
 "cells": [
  {
   "cell_type": "code",
   "execution_count": 344,
   "metadata": {
    "collapsed": false
   },
   "outputs": [
    {
     "name": "stdout",
     "output_type": "stream",
     "text": [
      "The autotime extension is already loaded. To reload it, use:\n",
      "  %reload_ext autotime\n",
      "time: 24 ms\n"
     ]
    }
   ],
   "source": [
    "import json\n",
    "from pandas import *\n",
    "import os\n",
    "import sys\n",
    "%load_ext autotime"
   ]
  },
  {
   "cell_type": "code",
   "execution_count": 2,
   "metadata": {
    "collapsed": true
   },
   "outputs": [],
   "source": [
    "f = open('meta_Clothing_Shoes_and_Jewelry.json').readlines()"
   ]
  },
  {
   "cell_type": "code",
   "execution_count": 334,
   "metadata": {
    "collapsed": false
   },
   "outputs": [
    {
     "name": "stdout",
     "output_type": "stream",
     "text": [
      "time: 1.22 ms\n"
     ]
    }
   ],
   "source": [
    "keys = [\"'asin':\"\n",
    ", \"'title':\"\n",
    ", \"'price':\"\n",
    ", \"'imUrl':\"\n",
    ", \"'related':\"\n",
    ", \"'salesRank':\"\n",
    ", \"'brand':\"\n",
    ", \"'categories':\"\n",
    ", \"'description':\"]"
   ]
  },
  {
   "cell_type": "code",
   "execution_count": 338,
   "metadata": {
    "collapsed": false
   },
   "outputs": [
    {
     "name": "stdout",
     "output_type": "stream",
     "text": [
      "time: 14.6 ms\n"
     ]
    }
   ],
   "source": [
    "def extract_key_value(kv, item_dict):\n",
    "    kv_split = kv.split(\": \")\n",
    "    k = kv_split[0][1:].replace(\"'\",'')\n",
    "    v = \": \".join(kv_split[1:]).replace(\"''\",\"','\")\n",
    "    if v[0] == \"'\":\n",
    "        v = v[1:-1]\n",
    "    item_dict[k] = v\n",
    "    return item_dict\n",
    "\n",
    "def make_item_dict(item):\n",
    "    item_dict = {}\n",
    "    curr = ''\n",
    "\n",
    "    for i in item:\n",
    "        key_found = [k for k in keys if k in i]\n",
    "        if len(key_found) == 1:\n",
    "            if curr != '':\n",
    "                item_dict = extract_key_value(curr, item_dict)\n",
    "            curr = i\n",
    "        elif len(key_found) == 0:\n",
    "            curr += i\n",
    "        else:\n",
    "            print 'TOO MANY KEYS'\n",
    "            print i\n",
    "            print item\n",
    "            sys.exit(0)\n",
    "    \n",
    "    return item_dict"
   ]
  },
  {
   "cell_type": "code",
   "execution_count": 341,
   "metadata": {
    "collapsed": false
   },
   "outputs": [
    {
     "name": "stdout",
     "output_type": "stream",
     "text": [
      "time: 2min 30s\n"
     ]
    }
   ],
   "source": [
    "df = DataFrame.from_dict({i: make_item_dict(l[1:-2].split(', ')) for i, l in enumerate(f)}, orient = 'index')"
   ]
  },
  {
   "cell_type": "code",
   "execution_count": 343,
   "metadata": {
    "collapsed": false
   },
   "outputs": [
    {
     "name": "stdout",
     "output_type": "stream",
     "text": [
      "time: 24.2 s\n"
     ]
    }
   ],
   "source": [
    "df.to_csv('metadata.csv')"
   ]
  },
  {
   "cell_type": "code",
   "execution_count": 347,
   "metadata": {
    "collapsed": false
   },
   "outputs": [
    {
     "name": "stdout",
     "output_type": "stream",
     "text": [
      "time: 9min 21s\n"
     ]
    }
   ],
   "source": [
    "import tarfile\n",
    "tar = tarfile.open(\"pics.tgz\")\n",
    "# pics = tar.getmembers()"
   ]
  },
  {
   "cell_type": "code",
   "execution_count": 364,
   "metadata": {
    "collapsed": false
   },
   "outputs": [
    {
     "name": "stdout",
     "output_type": "stream",
     "text": [
      "time: 1.63 s\n"
     ]
    }
   ],
   "source": [
    "pics_names_all = [p.replace('pics/','').replace('.jpg','') for p in tar.getnames() if '.jpg' in p]"
   ]
  },
  {
   "cell_type": "code",
   "execution_count": 371,
   "metadata": {
    "collapsed": false
   },
   "outputs": [
    {
     "name": "stdout",
     "output_type": "stream",
     "text": [
      "time: 7h 14min 26s\n"
     ]
    }
   ],
   "source": [
    "df.loc[:, 'pic_downloaded'] = df.loc[:, \"asin'\"].apply(lambda x: x in pics_names_all)"
   ]
  },
  {
   "cell_type": "code",
   "execution_count": 369,
   "metadata": {
    "collapsed": false
   },
   "outputs": [
    {
     "data": {
      "text/html": [
       "<div>\n",
       "<table border=\"1\" class=\"dataframe\">\n",
       "  <thead>\n",
       "    <tr style=\"text-align: right;\">\n",
       "      <th></th>\n",
       "      <th>title'</th>\n",
       "      <th>brand'</th>\n",
       "      <th>price'</th>\n",
       "      <th>asin'</th>\n",
       "      <th>related'</th>\n",
       "      <th>imUrl'</th>\n",
       "      <th>salesRank'</th>\n",
       "      <th>categories'</th>\n",
       "      <th>description'</th>\n",
       "      <th>pic_downloaded</th>\n",
       "    </tr>\n",
       "  </thead>\n",
       "  <tbody>\n",
       "    <tr>\n",
       "      <th>0</th>\n",
       "      <td>Purple Sequin Tiny Dancer Tutu Ballet Dance Fa...</td>\n",
       "      <td>Big Dreams</td>\n",
       "      <td>6.99</td>\n",
       "      <td>0000037214</td>\n",
       "      <td>{'also_viewed': ['B00JO8II76','B00DGN4R1Q','B0...</td>\n",
       "      <td>http://ecx.images-amazon.com/images/I/31mCncNu...</td>\n",
       "      <td>{'Clothing': 1233557}</td>\n",
       "      <td>NaN</td>\n",
       "      <td>NaN</td>\n",
       "      <td>True</td>\n",
       "    </tr>\n",
       "    <tr>\n",
       "      <th>1</th>\n",
       "      <td>Ballet Dress-Up Fairy Tutu</td>\n",
       "      <td>Boutique Cutie</td>\n",
       "      <td>6.79</td>\n",
       "      <td>0000031887</td>\n",
       "      <td>{'also_bought': ['0000031852','0000031895','00...</td>\n",
       "      <td>http://ecx.images-amazon.com/images/I/314qZjYe...</td>\n",
       "      <td>{'Sports &amp;amp; Outdoors': 8547}</td>\n",
       "      <td>[['ClothingShoes &amp; Jewelry','Girls','Clothing'...</td>\n",
       "      <td>NaN</td>\n",
       "      <td>True</td>\n",
       "    </tr>\n",
       "    <tr>\n",
       "      <th>2</th>\n",
       "      <td>SHINING IMAGE HUGE PINK LEATHER JEWELRY BOX / ...</td>\n",
       "      <td>NaN</td>\n",
       "      <td>64.98</td>\n",
       "      <td>0123456479</td>\n",
       "      <td>NaN</td>\n",
       "      <td>http://ecx.images-amazon.com/images/I/413tGhqo...</td>\n",
       "      <td>{'Kitchen &amp; Dining': 16987}</td>\n",
       "      <td>[['ClothingShoes &amp; Jewelry','NoveltyCostumes &amp;...</td>\n",
       "      <td>Elegance par excellence. Hand-crafted of the f...</td>\n",
       "      <td>True</td>\n",
       "    </tr>\n",
       "    <tr>\n",
       "      <th>3</th>\n",
       "      <td>\"RiZ Women's Beautify Crafted &amp;frac12; Rimmed ...</td>\n",
       "      <td>NaN</td>\n",
       "      <td>NaN</td>\n",
       "      <td>0456844570</td>\n",
       "      <td>{'also_viewed': ['B008MTRT1O','B00BUG47S4','B0...</td>\n",
       "      <td>http://ecx.images-amazon.com/images/I/31QZTHxv...</td>\n",
       "      <td>{'Clothing': 1180499}</td>\n",
       "      <td>NaN</td>\n",
       "      <td>NaN</td>\n",
       "      <td>True</td>\n",
       "    </tr>\n",
       "    <tr>\n",
       "      <th>4</th>\n",
       "      <td>Lantin White Visor Wrap Around Ski Style Aviat...</td>\n",
       "      <td>NaN</td>\n",
       "      <td>NaN</td>\n",
       "      <td>0456808574</td>\n",
       "      <td>{'also_viewed': ['B00A6JD8EA','B00BFL4FTA','B0...</td>\n",
       "      <td>http://ecx.images-amazon.com/images/I/31UsrgT5...</td>\n",
       "      <td>{'Clothing': 1038084}</td>\n",
       "      <td>NaN</td>\n",
       "      <td>NaN</td>\n",
       "      <td>True</td>\n",
       "    </tr>\n",
       "  </tbody>\n",
       "</table>\n",
       "</div>"
      ],
      "text/plain": [
       "                                              title'          brand' price'  \\\n",
       "0  Purple Sequin Tiny Dancer Tutu Ballet Dance Fa...      Big Dreams   6.99   \n",
       "1                         Ballet Dress-Up Fairy Tutu  Boutique Cutie   6.79   \n",
       "2  SHINING IMAGE HUGE PINK LEATHER JEWELRY BOX / ...             NaN  64.98   \n",
       "3  \"RiZ Women's Beautify Crafted &frac12; Rimmed ...             NaN    NaN   \n",
       "4  Lantin White Visor Wrap Around Ski Style Aviat...             NaN    NaN   \n",
       "\n",
       "        asin'                                           related'  \\\n",
       "0  0000037214  {'also_viewed': ['B00JO8II76','B00DGN4R1Q','B0...   \n",
       "1  0000031887  {'also_bought': ['0000031852','0000031895','00...   \n",
       "2  0123456479                                                NaN   \n",
       "3  0456844570  {'also_viewed': ['B008MTRT1O','B00BUG47S4','B0...   \n",
       "4  0456808574  {'also_viewed': ['B00A6JD8EA','B00BFL4FTA','B0...   \n",
       "\n",
       "                                              imUrl'  \\\n",
       "0  http://ecx.images-amazon.com/images/I/31mCncNu...   \n",
       "1  http://ecx.images-amazon.com/images/I/314qZjYe...   \n",
       "2  http://ecx.images-amazon.com/images/I/413tGhqo...   \n",
       "3  http://ecx.images-amazon.com/images/I/31QZTHxv...   \n",
       "4  http://ecx.images-amazon.com/images/I/31UsrgT5...   \n",
       "\n",
       "                        salesRank'  \\\n",
       "0            {'Clothing': 1233557}   \n",
       "1  {'Sports &amp; Outdoors': 8547}   \n",
       "2      {'Kitchen & Dining': 16987}   \n",
       "3            {'Clothing': 1180499}   \n",
       "4            {'Clothing': 1038084}   \n",
       "\n",
       "                                         categories'  \\\n",
       "0                                                NaN   \n",
       "1  [['ClothingShoes & Jewelry','Girls','Clothing'...   \n",
       "2  [['ClothingShoes & Jewelry','NoveltyCostumes &...   \n",
       "3                                                NaN   \n",
       "4                                                NaN   \n",
       "\n",
       "                                        description' pic_downloaded  \n",
       "0                                                NaN           True  \n",
       "1                                                NaN           True  \n",
       "2  Elegance par excellence. Hand-crafted of the f...           True  \n",
       "3                                                NaN           True  \n",
       "4                                                NaN           True  "
      ]
     },
     "execution_count": 369,
     "metadata": {},
     "output_type": "execute_result"
    },
    {
     "name": "stdout",
     "output_type": "stream",
     "text": [
      "time: 34.4 ms\n"
     ]
    }
   ],
   "source": [
    "df.head()"
   ]
  },
  {
   "cell_type": "code",
   "execution_count": 379,
   "metadata": {
    "collapsed": false
   },
   "outputs": [
    {
     "name": "stdout",
     "output_type": "stream",
     "text": [
      "time: 1.37 s\n"
     ]
    }
   ],
   "source": [
    "df.loc[:, 'boots'] = df.loc[:, \"title'\"].apply(lambda x: False if type(x) is float else 'boots' in x.lower())"
   ]
  },
  {
   "cell_type": "code",
   "execution_count": 374,
   "metadata": {
    "collapsed": false
   },
   "outputs": [
    {
     "name": "stdout",
     "output_type": "stream",
     "text": [
      "time: 43.5 s\n"
     ]
    }
   ],
   "source": [
    "df.to_csv('metadata_with_others.csv')"
   ]
  },
  {
   "cell_type": "code",
   "execution_count": 380,
   "metadata": {
    "collapsed": false
   },
   "outputs": [
    {
     "data": {
      "text/plain": [
       "False    1492140\n",
       "True       11244\n",
       "Name: boots, dtype: int64"
      ]
     },
     "execution_count": 380,
     "metadata": {},
     "output_type": "execute_result"
    },
    {
     "name": "stdout",
     "output_type": "stream",
     "text": [
      "time: 73.9 ms\n"
     ]
    }
   ],
   "source": [
    "df.boots.value_counts()"
   ]
  },
  {
   "cell_type": "code",
   "execution_count": 381,
   "metadata": {
    "collapsed": false
   },
   "outputs": [
    {
     "data": {
      "text/plain": [
       "True     1503305\n",
       "False         79\n",
       "Name: pic_downloaded, dtype: int64"
      ]
     },
     "execution_count": 381,
     "metadata": {},
     "output_type": "execute_result"
    },
    {
     "name": "stdout",
     "output_type": "stream",
     "text": [
      "time: 67.9 ms\n"
     ]
    }
   ],
   "source": [
    "df.pic_downloaded.value_counts()"
   ]
  },
  {
   "cell_type": "code",
   "execution_count": 382,
   "metadata": {
    "collapsed": false
   },
   "outputs": [
    {
     "name": "stdout",
     "output_type": "stream",
     "text": [
      "time: 35.1 ms\n"
     ]
    }
   ],
   "source": [
    "boots = df[df.boots == True]"
   ]
  },
  {
   "cell_type": "code",
   "execution_count": 383,
   "metadata": {
    "collapsed": false
   },
   "outputs": [
    {
     "data": {
      "text/html": [
       "<div>\n",
       "<table border=\"1\" class=\"dataframe\">\n",
       "  <thead>\n",
       "    <tr style=\"text-align: right;\">\n",
       "      <th></th>\n",
       "      <th>title'</th>\n",
       "      <th>brand'</th>\n",
       "      <th>price'</th>\n",
       "      <th>asin'</th>\n",
       "      <th>related'</th>\n",
       "      <th>imUrl'</th>\n",
       "      <th>salesRank'</th>\n",
       "      <th>categories'</th>\n",
       "      <th>description'</th>\n",
       "      <th>pic_downloaded</th>\n",
       "      <th>boots</th>\n",
       "    </tr>\n",
       "  </thead>\n",
       "  <tbody>\n",
       "    <tr>\n",
       "      <th>1139</th>\n",
       "      <td>Justin Boots Black Iguana Lizard</td>\n",
       "      <td>NaN</td>\n",
       "      <td>329.95</td>\n",
       "      <td>B0000A1R6F</td>\n",
       "      <td>NaN</td>\n",
       "      <td>http://ecx.images-amazon.com/images/I/51AutsCt...</td>\n",
       "      <td>{'Shoes': 249279}</td>\n",
       "      <td>NaN</td>\n",
       "      <td>NaN</td>\n",
       "      <td>True</td>\n",
       "      <td>True</td>\n",
       "    </tr>\n",
       "    <tr>\n",
       "      <th>1141</th>\n",
       "      <td>\"Justin Boots Men's Classic Western Boot\"</td>\n",
       "      <td>NaN</td>\n",
       "      <td>NaN</td>\n",
       "      <td>B0000A1RDO</td>\n",
       "      <td>{'also_bought': ['B000E9626I','B0041T42DC']'al...</td>\n",
       "      <td>http://ecx.images-amazon.com/images/I/41zrtA71...</td>\n",
       "      <td>{'Shoes': 53027}</td>\n",
       "      <td>NaN</td>\n",
       "      <td>NaN</td>\n",
       "      <td>True</td>\n",
       "      <td>True</td>\n",
       "    </tr>\n",
       "    <tr>\n",
       "      <th>1142</th>\n",
       "      <td>\"Justin Boots Men's Classic Western Boot\"</td>\n",
       "      <td>NaN</td>\n",
       "      <td>NaN</td>\n",
       "      <td>B0000A1REG</td>\n",
       "      <td>{'also_bought': ['B000E9626I','B0041T42DC']'al...</td>\n",
       "      <td>http://ecx.images-amazon.com/images/I/41zrtA71...</td>\n",
       "      <td>{'Shoes': 53027}</td>\n",
       "      <td>NaN</td>\n",
       "      <td>NaN</td>\n",
       "      <td>True</td>\n",
       "      <td>True</td>\n",
       "    </tr>\n",
       "    <tr>\n",
       "      <th>2134</th>\n",
       "      <td>\"Children's Ostrich-Print Cowboy Boots-peanut ...</td>\n",
       "      <td>NaN</td>\n",
       "      <td>NaN</td>\n",
       "      <td>B0000CH8HL</td>\n",
       "      <td>{'also_bought': ['B00551RXJK','B002LMHSEG','B0...</td>\n",
       "      <td>http://ecx.images-amazon.com/images/I/21M7uJMJ...</td>\n",
       "      <td>{'Shoes': 89070}</td>\n",
       "      <td>NaN</td>\n",
       "      <td>NaN</td>\n",
       "      <td>True</td>\n",
       "      <td>True</td>\n",
       "    </tr>\n",
       "    <tr>\n",
       "      <th>2785</th>\n",
       "      <td>\"Men's Itasca Waterproof Swampwalker II Rubber...</td>\n",
       "      <td>NaN</td>\n",
       "      <td>NaN</td>\n",
       "      <td>B0000WYVSA</td>\n",
       "      <td>{'also_viewed': ['B002OSXDSC','B002BH4GAU','B0...</td>\n",
       "      <td>http://ecx.images-amazon.com/images/I/41S6OxKc...</td>\n",
       "      <td>{'Shoes': 89433}</td>\n",
       "      <td>NaN</td>\n",
       "      <td>NaN</td>\n",
       "      <td>True</td>\n",
       "      <td>True</td>\n",
       "    </tr>\n",
       "  </tbody>\n",
       "</table>\n",
       "</div>"
      ],
      "text/plain": [
       "                                                 title' brand'  price'  \\\n",
       "1139                   Justin Boots Black Iguana Lizard    NaN  329.95   \n",
       "1141          \"Justin Boots Men's Classic Western Boot\"    NaN     NaN   \n",
       "1142          \"Justin Boots Men's Classic Western Boot\"    NaN     NaN   \n",
       "2134  \"Children's Ostrich-Print Cowboy Boots-peanut ...    NaN     NaN   \n",
       "2785  \"Men's Itasca Waterproof Swampwalker II Rubber...    NaN     NaN   \n",
       "\n",
       "           asin'                                           related'  \\\n",
       "1139  B0000A1R6F                                                NaN   \n",
       "1141  B0000A1RDO  {'also_bought': ['B000E9626I','B0041T42DC']'al...   \n",
       "1142  B0000A1REG  {'also_bought': ['B000E9626I','B0041T42DC']'al...   \n",
       "2134  B0000CH8HL  {'also_bought': ['B00551RXJK','B002LMHSEG','B0...   \n",
       "2785  B0000WYVSA  {'also_viewed': ['B002OSXDSC','B002BH4GAU','B0...   \n",
       "\n",
       "                                                 imUrl'         salesRank'  \\\n",
       "1139  http://ecx.images-amazon.com/images/I/51AutsCt...  {'Shoes': 249279}   \n",
       "1141  http://ecx.images-amazon.com/images/I/41zrtA71...   {'Shoes': 53027}   \n",
       "1142  http://ecx.images-amazon.com/images/I/41zrtA71...   {'Shoes': 53027}   \n",
       "2134  http://ecx.images-amazon.com/images/I/21M7uJMJ...   {'Shoes': 89070}   \n",
       "2785  http://ecx.images-amazon.com/images/I/41S6OxKc...   {'Shoes': 89433}   \n",
       "\n",
       "     categories' description' pic_downloaded boots  \n",
       "1139         NaN          NaN           True  True  \n",
       "1141         NaN          NaN           True  True  \n",
       "1142         NaN          NaN           True  True  \n",
       "2134         NaN          NaN           True  True  \n",
       "2785         NaN          NaN           True  True  "
      ]
     },
     "execution_count": 383,
     "metadata": {},
     "output_type": "execute_result"
    },
    {
     "name": "stdout",
     "output_type": "stream",
     "text": [
      "time: 43.4 ms\n"
     ]
    }
   ],
   "source": [
    "boots.head()"
   ]
  },
  {
   "cell_type": "code",
   "execution_count": 384,
   "metadata": {
    "collapsed": false
   },
   "outputs": [
    {
     "name": "stdout",
     "output_type": "stream",
     "text": [
      "time: 222 ms\n"
     ]
    }
   ],
   "source": [
    "boots.to_csv('boots.csv')"
   ]
  },
  {
   "cell_type": "code",
   "execution_count": 404,
   "metadata": {
    "collapsed": false
   },
   "outputs": [
    {
     "name": "stdout",
     "output_type": "stream",
     "text": [
      "time: 11.6 ms\n"
     ]
    }
   ],
   "source": [
    "boots_pics = boots[boots.boots == True].loc[:, \"asin'\"].values"
   ]
  },
  {
   "cell_type": "code",
   "execution_count": 405,
   "metadata": {
    "collapsed": false
   },
   "outputs": [
    {
     "data": {
      "text/plain": [
       "array(['B0000A1R6F', 'B0000A1RDO', 'B0000A1REG', 'B0000CH8HL', 'B0000WYVSA'], dtype=object)"
      ]
     },
     "execution_count": 405,
     "metadata": {},
     "output_type": "execute_result"
    },
    {
     "name": "stdout",
     "output_type": "stream",
     "text": [
      "time: 19.6 ms\n"
     ]
    }
   ],
   "source": [
    "boots_pics[:5]"
   ]
  },
  {
   "cell_type": "code",
   "execution_count": null,
   "metadata": {
    "collapsed": false
   },
   "outputs": [],
   "source": [
    "[tar.extract('pics/{0}.jpg'.format(b)) for b in boots_pics]"
   ]
  },
  {
   "cell_type": "code",
   "execution_count": null,
   "metadata": {
    "collapsed": true
   },
   "outputs": [],
   "source": []
  },
  {
   "cell_type": "code",
   "execution_count": null,
   "metadata": {
    "collapsed": true
   },
   "outputs": [],
   "source": []
  },
  {
   "cell_type": "code",
   "execution_count": null,
   "metadata": {
    "collapsed": true
   },
   "outputs": [],
   "source": []
  },
  {
   "cell_type": "markdown",
   "metadata": {},
   "source": [
    "### Picking back up"
   ]
  },
  {
   "cell_type": "code",
   "execution_count": null,
   "metadata": {
    "collapsed": true
   },
   "outputs": [],
   "source": []
  }
 ],
 "metadata": {
  "kernelspec": {
   "display_name": "Python 2",
   "language": "python",
   "name": "python2"
  },
  "language_info": {
   "codemirror_mode": {
    "name": "ipython",
    "version": 2
   },
   "file_extension": ".py",
   "mimetype": "text/x-python",
   "name": "python",
   "nbconvert_exporter": "python",
   "pygments_lexer": "ipython2",
   "version": "2.7.11"
  }
 },
 "nbformat": 4,
 "nbformat_minor": 0
}
